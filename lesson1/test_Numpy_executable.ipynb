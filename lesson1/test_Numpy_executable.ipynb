{
 "cells": [
  {
   "cell_type": "code",
   "execution_count": 8,
   "id": "07ab6c71",
   "metadata": {},
   "outputs": [
    {
     "name": "stdout",
     "output_type": "stream",
     "text": [
      "NumPy version: 2.3.1\n",
      "Python version: 3.12.1\n"
     ]
    }
   ],
   "source": [
    "# Setup: NumPy import and print versions\n",
    "import numpy as np\n",
    "import sys\n",
    "print(\"NumPy version:\", np.__version__)\n",
    "print(\"Python version:\", sys.version.split()[0])\n"
   ]
  },
  {
   "cell_type": "code",
   "execution_count": 3,
   "id": "1b28bddc-9369-484b-ba0e-afa0823a01ae",
   "metadata": {},
   "outputs": [
    {
     "data": {
      "text/plain": [
       "array([0., 0., 0., 0., 0.])"
      ]
     },
     "execution_count": 3,
     "metadata": {},
     "output_type": "execute_result"
    }
   ],
   "source": [
    "np.zeros(5)"
   ]
  },
  {
   "cell_type": "code",
   "execution_count": 4,
   "id": "158d4f1a-eee5-4ece-8fcd-011b76255f3d",
   "metadata": {},
   "outputs": [
    {
     "data": {
      "text/plain": [
       "array([1., 1., 1., 1., 1., 1., 1., 1., 1., 1.])"
      ]
     },
     "execution_count": 4,
     "metadata": {},
     "output_type": "execute_result"
    }
   ],
   "source": [
    "np.ones(10)"
   ]
  },
  {
   "cell_type": "code",
   "execution_count": 5,
   "id": "bb9fbe14-3254-453b-85e2-2a4a4367d61f",
   "metadata": {},
   "outputs": [
    {
     "data": {
      "text/plain": [
       "array([3.5, 3.5, 3.5, 3.5, 3.5, 3.5, 3.5, 3.5, 3.5, 3.5])"
      ]
     },
     "execution_count": 5,
     "metadata": {},
     "output_type": "execute_result"
    }
   ],
   "source": [
    "np.full(10, 3.5)"
   ]
  },
  {
   "cell_type": "code",
   "execution_count": 6,
   "id": "ebb0b891-57cd-45e5-8d53-7b7872c0bf36",
   "metadata": {},
   "outputs": [
    {
     "data": {
      "text/plain": [
       "array([0, 1, 2, 3, 4, 5, 6, 7, 8, 9])"
      ]
     },
     "execution_count": 6,
     "metadata": {},
     "output_type": "execute_result"
    }
   ],
   "source": [
    "np.arange(10)"
   ]
  },
  {
   "cell_type": "code",
   "execution_count": 7,
   "id": "a6dcaf9f-d0af-4076-9e3d-3c67c3d7c446",
   "metadata": {},
   "outputs": [
    {
     "data": {
      "text/plain": [
       "array([ 0.,  1.,  2.,  3.,  4.,  5.,  6.,  7.,  8.,  9., 10.])"
      ]
     },
     "execution_count": 7,
     "metadata": {},
     "output_type": "execute_result"
    }
   ],
   "source": [
    "np.linspace(0,10,11) # raneStart,rangeEnd,steps"
   ]
  },
  {
   "cell_type": "code",
   "execution_count": 10,
   "id": "61332c9c-8690-47bc-8dbf-7ac45efa2633",
   "metadata": {},
   "outputs": [],
   "source": [
    "n= np.array([\n",
    "[1,2,3],\n",
    "[4,5,6],\n",
    "[7,8,9]\n",
    "])"
   ]
  },
  {
   "cell_type": "code",
   "execution_count": 11,
   "id": "35a5ae64-29f3-4738-92b1-ba93f76fd958",
   "metadata": {},
   "outputs": [
    {
     "data": {
      "text/plain": [
       "array([[1, 2, 3],\n",
       "       [4, 5, 6],\n",
       "       [7, 8, 9]])"
      ]
     },
     "execution_count": 11,
     "metadata": {},
     "output_type": "execute_result"
    }
   ],
   "source": [
    "n"
   ]
  },
  {
   "cell_type": "code",
   "execution_count": 13,
   "id": "97a8c298-6f42-4a62-9c4d-fb443ffed833",
   "metadata": {},
   "outputs": [
    {
     "data": {
      "text/plain": [
       "np.int64(3)"
      ]
     },
     "execution_count": 13,
     "metadata": {},
     "output_type": "execute_result"
    }
   ],
   "source": [
    "n[0,2]"
   ]
  },
  {
   "cell_type": "code",
   "execution_count": 15,
   "id": "d4e2f5aa-8a46-4bcb-9541-d3c8b87d7a56",
   "metadata": {},
   "outputs": [],
   "source": [
    "n[0,2] = 10"
   ]
  },
  {
   "cell_type": "code",
   "execution_count": 16,
   "id": "2256bd9d-9eda-4159-8c20-71c140fcad5f",
   "metadata": {},
   "outputs": [
    {
     "data": {
      "text/plain": [
       "np.int64(10)"
      ]
     },
     "execution_count": 16,
     "metadata": {},
     "output_type": "execute_result"
    }
   ],
   "source": [
    "n[0,2]"
   ]
  },
  {
   "cell_type": "code",
   "execution_count": 18,
   "id": "30069fc1-1b9e-4ead-aba2-fb01dc7d72ff",
   "metadata": {},
   "outputs": [],
   "source": [
    "n[2] = np.ones(3)"
   ]
  },
  {
   "cell_type": "code",
   "execution_count": 19,
   "id": "3e7506ea-5806-4e2e-a3be-ffafeb376931",
   "metadata": {},
   "outputs": [
    {
     "data": {
      "text/plain": [
       "array([1, 1, 1])"
      ]
     },
     "execution_count": 19,
     "metadata": {},
     "output_type": "execute_result"
    }
   ],
   "source": [
    "n[2]"
   ]
  },
  {
   "cell_type": "code",
   "execution_count": 20,
   "id": "9a128ee1-ecbb-4ea3-b956-350e899b63e1",
   "metadata": {},
   "outputs": [
    {
     "data": {
      "text/plain": [
       "array([[ 1,  2, 10],\n",
       "       [ 4,  5,  6],\n",
       "       [ 1,  1,  1]])"
      ]
     },
     "execution_count": 20,
     "metadata": {},
     "output_type": "execute_result"
    }
   ],
   "source": [
    "n"
   ]
  },
  {
   "cell_type": "code",
   "execution_count": 21,
   "id": "3695be8d-58e6-4165-83a1-4513143367d0",
   "metadata": {},
   "outputs": [
    {
     "data": {
      "text/plain": [
       "array([[0.64589851, 0.00883025],\n",
       "       [0.87850149, 0.18799709],\n",
       "       [0.62762251, 0.3680792 ],\n",
       "       [0.4469396 , 0.08552083],\n",
       "       [0.66186099, 0.94437431]])"
      ]
     },
     "execution_count": 21,
     "metadata": {},
     "output_type": "execute_result"
    }
   ],
   "source": [
    " np.random.rand(5,2)"
   ]
  },
  {
   "cell_type": "code",
   "execution_count": null,
   "id": "91aaf69e-4d8c-440d-ab6a-5eafaad639f3",
   "metadata": {},
   "outputs": [],
   "source": []
  }
 ],
 "metadata": {
  "kernelspec": {
   "display_name": "Python 3 (ipykernel)",
   "language": "python",
   "name": "python3"
  },
  "language_info": {
   "codemirror_mode": {
    "name": "ipython",
    "version": 3
   },
   "file_extension": ".py",
   "mimetype": "text/x-python",
   "name": "python",
   "nbconvert_exporter": "python",
   "pygments_lexer": "ipython3",
   "version": "3.12.1"
  }
 },
 "nbformat": 4,
 "nbformat_minor": 5
}
