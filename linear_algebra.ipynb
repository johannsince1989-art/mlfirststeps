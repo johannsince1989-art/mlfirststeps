{
 "cells": [
  {
   "cell_type": "markdown",
   "id": "371ec683-59e2-4bbb-ac6c-2ff601d98657",
   "metadata": {},
   "source": [
    "# This is my numpy test"
   ]
  },
  {
   "cell_type": "code",
   "execution_count": 3,
   "id": "8ec59798-15e0-4eed-ac68-c4482177b8dc",
   "metadata": {},
   "outputs": [],
   "source": [
    "import numpy as np"
   ]
  },
  {
   "cell_type": "markdown",
   "id": "16aad275-6d1a-4c89-b35d-68e0406dbc7e",
   "metadata": {},
   "source": [
    "# Creating arrays"
   ]
  },
  {
   "cell_type": "code",
   "execution_count": null,
   "id": "f053b59a-ba10-435f-b0eb-c451d03b7a20",
   "metadata": {},
   "outputs": [
    {
     "data": {
      "text/plain": [
       "array([0., 0., 0., 0., 0.])"
      ]
     },
     "execution_count": 2,
     "metadata": {},
     "output_type": "execute_result"
    }
   ],
   "source": [
    "np.zeros(5)"
   ]
  },
  {
   "cell_type": "code",
   "execution_count": null,
   "id": "847d5e58-5009-422c-a5f3-98cea01fa17f",
   "metadata": {},
   "outputs": [
    {
     "data": {
      "text/plain": [
       "array([1., 1., 1., 1., 1., 1., 1., 1., 1., 1.])"
      ]
     },
     "execution_count": 6,
     "metadata": {},
     "output_type": "execute_result"
    }
   ],
   "source": [
    "np.ones(10)"
   ]
  },
  {
   "cell_type": "code",
   "execution_count": null,
   "id": "458db644-52e7-4fa8-857b-e6a068db0103",
   "metadata": {},
   "outputs": [
    {
     "data": {
      "text/plain": [
       "array([3.5, 3.5, 3.5, 3.5, 3.5, 3.5, 3.5, 3.5, 3.5, 3.5])"
      ]
     },
     "execution_count": 7,
     "metadata": {},
     "output_type": "execute_result"
    }
   ],
   "source": [
    "np.full(10, 3.5)"
   ]
  },
  {
   "cell_type": "code",
   "execution_count": null,
   "id": "d8293c00-fe1e-47fb-a4f1-6b08461ebee1",
   "metadata": {},
   "outputs": [
    {
     "data": {
      "text/plain": [
       "array([0, 1, 2, 3, 4, 5, 6, 7, 8, 9])"
      ]
     },
     "execution_count": 10,
     "metadata": {},
     "output_type": "execute_result"
    }
   ],
   "source": [
    "np.arange(10)"
   ]
  },
  {
   "cell_type": "code",
   "execution_count": null,
   "id": "0fc6ef33-9c04-48cf-be25-d7175ecc7819",
   "metadata": {},
   "outputs": [
    {
     "data": {
      "text/plain": [
       "array([ 0.,  1.,  2.,  3.,  4.,  5.,  6.,  7.,  8.,  9., 10.])"
      ]
     },
     "execution_count": 13,
     "metadata": {},
     "output_type": "execute_result"
    }
   ],
   "source": [
    "np.linspace(0,10,11) # raneStart,rangeEnd,steps"
   ]
  },
  {
   "cell_type": "markdown",
   "id": "c7c45f9b-7573-49b9-92a6-88d3cae0b065",
   "metadata": {},
   "source": [
    "# Multi-dimentional arrays"
   ]
  },
  {
   "cell_type": "code",
   "execution_count": null,
   "id": "2fa9ef3c-8cf3-4cfa-ab68-5a2d8ab1fbe4",
   "metadata": {},
   "outputs": [
    {
     "data": {
      "text/plain": [
       "array([[0., 0.],\n",
       "       [0., 0.],\n",
       "       [0., 0.],\n",
       "       [0., 0.],\n",
       "       [0., 0.]])"
      ]
     },
     "execution_count": 14,
     "metadata": {},
     "output_type": "execute_result"
    }
   ],
   "source": [
    "np.zeros((5,2))"
   ]
  },
  {
   "cell_type": "code",
   "execution_count": null,
   "id": "269a92b4-cd15-4d6b-aedb-09dde63c4f28",
   "metadata": {},
   "outputs": [],
   "source": [
    "n= np.array([\n",
    "    [1,2,3],\n",
    "    [4,5,6],\n",
    "    [7,8,9]\n",
    "])"
   ]
  },
  {
   "cell_type": "code",
   "execution_count": null,
   "id": "42cbc261-33e5-420e-8365-a1b17a1f81e5",
   "metadata": {},
   "outputs": [
    {
     "data": {
      "text/plain": [
       "array([[1, 2, 3],\n",
       "       [4, 5, 6],\n",
       "       [7, 8, 9]])"
      ]
     },
     "execution_count": 16,
     "metadata": {},
     "output_type": "execute_result"
    }
   ],
   "source": [
    "n"
   ]
  },
  {
   "cell_type": "code",
   "execution_count": null,
   "id": "57a8ee35-a6f6-4a46-9a07-fce4f0f6e3ae",
   "metadata": {},
   "outputs": [
    {
     "data": {
      "text/plain": [
       "np.int64(3)"
      ]
     },
     "execution_count": 18,
     "metadata": {},
     "output_type": "execute_result"
    }
   ],
   "source": [
    "n[0,2]"
   ]
  },
  {
   "cell_type": "code",
   "execution_count": null,
   "id": "3e398e06-5e6b-4f88-8913-241f75cc6294",
   "metadata": {},
   "outputs": [],
   "source": [
    "n[0,2] = 10"
   ]
  },
  {
   "cell_type": "code",
   "execution_count": null,
   "id": "a2bf600e-e87f-465d-87c6-874d5136d9fc",
   "metadata": {},
   "outputs": [
    {
     "data": {
      "text/plain": [
       "np.int64(10)"
      ]
     },
     "execution_count": 20,
     "metadata": {},
     "output_type": "execute_result"
    }
   ],
   "source": [
    "n[0,2]"
   ]
  },
  {
   "cell_type": "code",
   "execution_count": null,
   "id": "6e1cfe81-76bf-4943-ba50-5316ea91098e",
   "metadata": {},
   "outputs": [],
   "source": [
    "n[2] = np.ones(3)"
   ]
  },
  {
   "cell_type": "code",
   "execution_count": null,
   "id": "ab18a122-2a73-4743-9189-519e79b20ce5",
   "metadata": {},
   "outputs": [
    {
     "data": {
      "text/plain": [
       "array([1, 1, 1])"
      ]
     },
     "execution_count": 27,
     "metadata": {},
     "output_type": "execute_result"
    }
   ],
   "source": [
    "n[2]"
   ]
  },
  {
   "cell_type": "code",
   "execution_count": null,
   "id": "bfc52674-6a98-4324-b946-fa18873e2431",
   "metadata": {},
   "outputs": [
    {
     "data": {
      "text/plain": [
       "array([[ 1,  2, 10],\n",
       "       [ 4,  5,  6],\n",
       "       [ 1,  1,  1]])"
      ]
     },
     "execution_count": 23,
     "metadata": {},
     "output_type": "execute_result"
    }
   ],
   "source": [
    "n"
   ]
  },
  {
   "cell_type": "code",
   "execution_count": null,
   "id": "af953ecf-77f4-4724-9020-a90e07eb9b57",
   "metadata": {},
   "outputs": [],
   "source": [
    "n[:,2] = [0,1,2]"
   ]
  },
  {
   "cell_type": "code",
   "execution_count": null,
   "id": "d8776bd1-30db-464d-8fd9-1f14002e0eeb",
   "metadata": {},
   "outputs": [
    {
     "data": {
      "text/plain": [
       "array([[1, 2, 0],\n",
       "       [4, 5, 1],\n",
       "       [1, 1, 2]])"
      ]
     },
     "execution_count": 29,
     "metadata": {},
     "output_type": "execute_result"
    }
   ],
   "source": [
    "n"
   ]
  },
  {
   "cell_type": "markdown",
   "id": "a110374b-fb89-4e63-9d22-11bc506c1852",
   "metadata": {},
   "source": [
    "# Radnomly generated arrays"
   ]
  },
  {
   "cell_type": "code",
   "execution_count": null,
   "id": "eac7cbe0-6f11-4967-a28a-999e841cc9de",
   "metadata": {},
   "outputs": [
    {
     "data": {
      "text/plain": [
       "array([[0.03476087, 0.0205929 ],\n",
       "       [0.78767104, 0.80215171],\n",
       "       [0.42183007, 0.97834826],\n",
       "       [0.05521676, 0.57701164],\n",
       "       [0.05026987, 0.17870066]])"
      ]
     },
     "execution_count": 33,
     "metadata": {},
     "output_type": "execute_result"
    }
   ],
   "source": [
    "np.random.rand(5,2)"
   ]
  },
  {
   "cell_type": "code",
   "execution_count": null,
   "id": "990760fb-10f7-4a34-ae9f-17f180d6b29e",
   "metadata": {},
   "outputs": [
    {
     "data": {
      "text/plain": [
       "array([[0.4359949 , 0.02592623],\n",
       "       [0.54966248, 0.43532239],\n",
       "       [0.4203678 , 0.33033482],\n",
       "       [0.20464863, 0.61927097],\n",
       "       [0.29965467, 0.26682728]])"
      ]
     },
     "execution_count": 34,
     "metadata": {},
     "output_type": "execute_result"
    }
   ],
   "source": [
    "np.random.seed(2) # we fix the seed such that the \"random\" numbers are alwyays same\n",
    "np.random.rand(5,2)"
   ]
  },
  {
   "cell_type": "code",
   "execution_count": null,
   "id": "68bfb735-881d-4c97-b1b1-3ef9b7f7f415",
   "metadata": {},
   "outputs": [
    {
     "data": {
      "text/plain": [
       "array([[0.4359949 , 0.02592623],\n",
       "       [0.54966248, 0.43532239],\n",
       "       [0.4203678 , 0.33033482],\n",
       "       [0.20464863, 0.61927097],\n",
       "       [0.29965467, 0.26682728]])"
      ]
     },
     "execution_count": 35,
     "metadata": {},
     "output_type": "execute_result"
    }
   ],
   "source": [
    "np.random.seed(2) # we fix the seed such that the \"random\" numbers are alwyays same\n",
    "np.random.rand(5,2)"
   ]
  },
  {
   "cell_type": "code",
   "execution_count": null,
   "id": "b545d7eb-90b2-433b-87c8-ef27f95ed4a2",
   "metadata": {},
   "outputs": [
    {
     "data": {
      "text/plain": [
       "array([[ 0.55145404,  2.29220801],\n",
       "       [ 0.04153939, -1.11792545],\n",
       "       [ 0.53905832, -0.5961597 ],\n",
       "       [-0.0191305 ,  1.17500122],\n",
       "       [-0.74787095,  0.00902525]])"
      ]
     },
     "execution_count": 36,
     "metadata": {},
     "output_type": "execute_result"
    }
   ],
   "source": [
    "np.random.randn(5,2)"
   ]
  },
  {
   "cell_type": "markdown",
   "id": "20902aa6-4ddf-494f-b481-81a2b1516d7e",
   "metadata": {},
   "source": [
    "# Element-wise-operations"
   ]
  },
  {
   "cell_type": "code",
   "execution_count": null,
   "id": "011fba66-4526-4062-aecf-f484f900b0f4",
   "metadata": {},
   "outputs": [
    {
     "data": {
      "text/plain": [
       "array([0, 1, 2, 3, 4])"
      ]
     },
     "execution_count": 3,
     "metadata": {},
     "output_type": "execute_result"
    }
   ],
   "source": [
    "a = np.arange(5)\n",
    "a"
   ]
  },
  {
   "cell_type": "code",
   "execution_count": null,
   "id": "3a4f797c-863a-4ddc-bfd5-ec535337088d",
   "metadata": {},
   "outputs": [
    {
     "data": {
      "text/plain": [
       "array([1, 2, 3, 4, 5])"
      ]
     },
     "execution_count": 4,
     "metadata": {},
     "output_type": "execute_result"
    }
   ],
   "source": [
    "a + 1"
   ]
  },
  {
   "cell_type": "code",
   "execution_count": null,
   "id": "37b384d2-ba64-4f1b-9f23-120e87083207",
   "metadata": {},
   "outputs": [
    {
     "data": {
      "text/plain": [
       "array([0, 2, 4, 6, 8])"
      ]
     },
     "execution_count": 5,
     "metadata": {},
     "output_type": "execute_result"
    }
   ],
   "source": [
    "a * 2"
   ]
  },
  {
   "cell_type": "markdown",
   "id": "9582a069-36a0-4c68-8cfd-b06ecf2515a7",
   "metadata": {},
   "source": [
    "Linear algebra"
   ]
  },
  {
   "cell_type": "code",
   "execution_count": null,
   "id": "29194ef4-2f85-49ab-b6ce-49aada8740e7",
   "metadata": {},
   "outputs": [],
   "source": [
    "u = np.arange(5)"
   ]
  },
  {
   "cell_type": "code",
   "execution_count": null,
   "id": "35d91d21-1e2b-4e8b-8f43-9ca9d06373cb",
   "metadata": {},
   "outputs": [
    {
     "data": {
      "text/plain": [
       "array([0, 1, 2, 3, 4])"
      ]
     },
     "execution_count": 3,
     "metadata": {},
     "output_type": "execute_result"
    }
   ],
   "source": [
    "u"
   ]
  },
  {
   "cell_type": "code",
   "execution_count": null,
   "id": "0080947f-36fb-44e5-a47a-1666e3b15a7c",
   "metadata": {},
   "outputs": [],
   "source": [
    "v = np.arange(6,11)"
   ]
  },
  {
   "cell_type": "code",
   "execution_count": null,
   "id": "aca18966-0d3a-4e4c-bf7d-33c18dae1f86",
   "metadata": {},
   "outputs": [
    {
     "data": {
      "text/plain": [
       "array([ 6,  7,  8,  9, 10])"
      ]
     },
     "execution_count": 5,
     "metadata": {},
     "output_type": "execute_result"
    }
   ],
   "source": [
    "v"
   ]
  },
  {
   "cell_type": "code",
   "execution_count": null,
   "id": "61013ea5-5481-4148-b35a-f3e3c91a0845",
   "metadata": {},
   "outputs": [
    {
     "data": {
      "text/plain": [
       "array([ 6,  8, 10, 12, 14])"
      ]
     },
     "execution_count": 6,
     "metadata": {},
     "output_type": "execute_result"
    }
   ],
   "source": [
    "u + v"
   ]
  },
  {
   "cell_type": "markdown",
   "id": "d0c2284f-dcbf-4e46-9880-1dce694aecfe",
   "metadata": {},
   "source": [
    "# Vector-Vector Multiplication"
   ]
  },
  {
   "cell_type": "markdown",
   "id": "4a7654d8-fdbf-4dac-ad78-d98f2c7a3f42",
   "metadata": {},
   "source": []
  },
  {
   "cell_type": "markdown",
   "id": "b7c2ae0e-4c60-4a4f-bacb-a02292962c9b",
   "metadata": {},
   "source": [
    "Dot product $v^{T}u = \\sum_{n=1}^{n} u_{i} * v_{i}$"
   ]
  },
  {
   "cell_type": "code",
   "execution_count": null,
   "id": "eff40366-7cc6-439a-b00c-a519fd3c5b06",
   "metadata": {},
   "outputs": [
    {
     "name": "stdout",
     "output_type": "stream",
     "text": [
      "5 5\n"
     ]
    }
   ],
   "source": [
    "u_shape = u.shape[0]\n",
    "v_shape = v.shape[0]\n",
    "print(f'{u_shape} {v_shape}')"
   ]
  },
  {
   "cell_type": "code",
   "execution_count": 8,
   "id": "46b5bf17-258a-412f-a6f1-5f5fe617eb98",
   "metadata": {},
   "outputs": [],
   "source": [
    "def vector_vector_multiplication(u, v):\n",
    "    assert u.shape[0] == v.shape[0]\n",
    "    n = u.shape[0]\n",
    "\n",
    "    result =  0.0\n",
    "    for i in range(n):\n",
    "        result += u[i] * v[i]\n",
    "    return result"
   ]
  },
  {
   "cell_type": "code",
   "execution_count": null,
   "id": "ad7edc5b-9579-44a5-8bbf-e0a35615656e",
   "metadata": {},
   "outputs": [
    {
     "data": {
      "text/plain": [
       "np.float64(90.0)"
      ]
     },
     "execution_count": 18,
     "metadata": {},
     "output_type": "execute_result"
    }
   ],
   "source": [
    "vector_vector_multiplication(u,v)"
   ]
  },
  {
   "cell_type": "code",
   "execution_count": null,
   "id": "f4486822-c402-4c9e-b747-7c3be0b825a3",
   "metadata": {},
   "outputs": [
    {
     "data": {
      "text/plain": [
       "np.int64(90)"
      ]
     },
     "execution_count": 19,
     "metadata": {},
     "output_type": "execute_result"
    }
   ],
   "source": [
    "u.dot(v)"
   ]
  },
  {
   "cell_type": "markdown",
   "id": "7fac8bbf-f69c-469a-b4d5-443c2ad93e8e",
   "metadata": {},
   "source": [
    "# Matrix-Vector Multiplication\n",
    "$ U = \\begin{pmatrix}\n",
    "2 & 4 & 5 & 6 \\\\\n",
    "1 & 2 & 1 & 2 \\\\\n",
    "3 & 1 & 2 & 1 \\\\\n",
    "\\end{pmatrix}, \n",
    "v = \\begin{pmatrix}\n",
    "1  \\\\\n",
    "0.5 \\\\\n",
    "2 \\\\\n",
    "1 \\\\; Uv\n",
    "\\end{pmatrix}$"
   ]
  },
  {
   "cell_type": "markdown",
   "id": "d1a8d604-90c8-4ef9-8cd6-1e8970ab0bb0",
   "metadata": {},
   "source": [
    "# Matrix–Vektor-Multiplikation: Definition und Beispiel\n",
    "\n",
    "**Definition.** Sei \\(A\\in\\mathbb{R}^{m\\times n}\\) mit Einträgen \\(a_{ij}\\) und \\(\\mathbf{x}\\in\\mathbb{R}^n\\) mit Einträgen \\(x_j\\).\n",
    "Das Produkt \\(A\\mathbf{x}\\in\\mathbb{R}^m\\) ist definiert durch\n",
    "$$\n",
    "(A\\mathbf{x})_i=\\sum_{j=1}^{n} a_{ij}\\,x_j \\qquad (i=1,\\dots,m).\n",
    "$$\n",
    "Äquivalent ist \\(A\\mathbf{x}\\) eine Linearkombination der Spalten von \\(A\\):\n",
    "$$\n",
    "A\\mathbf{x}=x_1\\,\\mathbf{a}^{(1)}+x_2\\,\\mathbf{a}^{(2)}+\\cdots+x_n\\,\\mathbf{a}^{(n)},\n",
    "$$\n",
    "wobei \\(\\mathbf{a}^{(j)}\\) die \\(j\\)-te Spalte von \\(A\\) ist.\n",
    "\n",
    "**Beispiel.** Berechne \\(A\\mathbf{x}\\) für\n",
    "$$\n",
    "A=\\begin{bmatrix}\n",
    "2 & -1 & 0\\\\\n",
    "3 & 4 & 1\\\\\n",
    "-2 & 5 & 2\n",
    "\\end{bmatrix},\n",
    "\\qquad\n",
    "\\mathbf{x}=\\begin{bmatrix}1\\\\ 2\\\\ -1\\end{bmatrix}.\n",
    "$$\n",
    "\n",
    "Komponentenweise:\n",
    "$$\n",
    "\\begin{aligned}\n",
    "(A\\mathbf{x})_1 &= 2\\cdot1 + (-1)\\cdot2 + 0\\cdot(-1) = 0,\\\\\n",
    "(A\\mathbf{x})_2 &= 3\\cdot1 + 4\\cdot2 + 1\\cdot(-1) = 10,\\\\\n",
    "(A\\mathbf{x})_3 &= (-2)\\cdot1 + 5\\cdot2 + 2\\cdot(-1) = 6.\n",
    "\\end{aligned}\n",
    "$$\n",
    "\n",
    "Damit\n",
    "$$\n",
    "A\\mathbf{x}=\\begin{bmatrix}0\\\\ 10\\\\ 6\\end{bmatrix}.\n",
    "$$\n"
   ]
  },
  {
   "cell_type": "markdown",
   "id": "da67c833-3443-49f0-b9dd-15013afcbf3f",
   "metadata": {},
   "source": [
    "$$ \n",
    "\\begin{pmatrix}\n",
    "\\alpha_{11} & \\begin{matrix} * & \\dots & * \\end{matrix} \\\\\n",
    "\\begin{matrix} 0 \\\\ \\vdots \\\\ 0 \\end{matrix} & A_{11}\n",
    "\\end{pmatrix}\n",
    "$$"
   ]
  },
  {
   "cell_type": "markdown",
   "id": "e431094d",
   "metadata": {},
   "source": [
    "$$ \n",
    "\\begin{pmatrix}\n",
    "u_{0} &  \\dots & u_{n} \\\\\n",
    "\\vdots & \\ddots  & \\vdots \\\\\n",
    "u_{m} &  \\dots & u_{n} \\\\\n",
    "\\end{pmatrix}\n",
    "\\begin{pmatrix}\n",
    "v_{0} \\\\\n",
    "\\vdots \\\\\n",
    "v_{n}\n",
    "\\end{pmatrix}\n",
    "=\n",
    "\\begin{pmatrix}\n",
    "u_{0}^{T}v \\\\\n",
    "\\vdots \\\\\n",
    "u_{m}^{T}v\n",
    "\\end{pmatrix}\n",
    "$$"
   ]
  },
  {
   "cell_type": "code",
   "execution_count": 10,
   "id": "74731026-ee2e-4ce6-ac29-a9b8e4e9ce7c",
   "metadata": {},
   "outputs": [],
   "source": [
    "U = np.array([\n",
    "    [2,4,5,6],\n",
    "    [1,2,1,2],\n",
    "    [3,1,2,1]\n",
    "])\n",
    "U.shape\n",
    "v = np.arange(5,8)"
   ]
  },
  {
   "cell_type": "code",
   "execution_count": 14,
   "id": "f9fad883-3e2f-4443-8272-90e33ae25b8b",
   "metadata": {},
   "outputs": [],
   "source": [
    "def matrix_vector_multiplication(U,v):\n",
    "    assert U.shape[1] == v.shape[0]\n",
    "    num_rows = U.shape[0]\n",
    "    result= np.zeros(num_rows)\n",
    "    for i in range(num_rows):\n",
    "        result[i] = vector_vector_multiplication(U[i],v)\n",
    "    return result\n",
    "    \n",
    "        \n",
    "    "
   ]
  },
  {
   "cell_type": "code",
   "execution_count": 15,
   "id": "aea4dab6-d5a0-490c-b3bd-3ee0ac36a7ab",
   "metadata": {},
   "outputs": [
    {
     "data": {
      "text/plain": [
       "array([117.,  40.,  43.])"
      ]
     },
     "execution_count": 15,
     "metadata": {},
     "output_type": "execute_result"
    }
   ],
   "source": [
    "matrix_vector_multiplication(U,v)"
   ]
  },
  {
   "cell_type": "code",
   "execution_count": 16,
   "id": "81dde222-fc22-422c-8903-d8d89e002223",
   "metadata": {},
   "outputs": [
    {
     "data": {
      "text/plain": [
       "array([117,  40,  43])"
      ]
     },
     "execution_count": 16,
     "metadata": {},
     "output_type": "execute_result"
    }
   ],
   "source": [
    "U.dot(v)"
   ]
  },
  {
   "cell_type": "code",
   "execution_count": null,
   "id": "5f7c781d-7a29-47f3-8e78-08682ea61a01",
   "metadata": {},
   "outputs": [],
   "source": []
  },
  {
   "cell_type": "markdown",
   "id": "81f28ac8-b3d0-44ac-817f-c9ae960bc69c",
   "metadata": {},
   "source": [
    "# Matrix-Matrix Multiplication\n",
    "$$ \n",
    "\\begin{pmatrix}\n",
    "u_{0} &  \\dots & u_{n} \\\\\n",
    "\\vdots & \\ddots  & \\vdots \\\\\n",
    "u_{m} &  \\dots & u_{n} \\\\\n",
    "\\end{pmatrix}\n",
    "\\begin{pmatrix}\n",
    "v_{0} &  \\dots & v_{l} \\\\\n",
    "\\vdots & \\ddots  & \\vdots \\\\\n",
    "v_{0n}&  \\dots & v_{l} \\\\\n",
    "\\end{pmatrix}\n",
    "=\n",
    "\\begin{pmatrix}\n",
    "u_{0} v_{0} & \\dots & u_{m} v_{l} \\\\\n",
    "\\end{pmatrix}\n",
    "$$"
   ]
  },
  {
   "cell_type": "code",
   "execution_count": null,
   "id": "54454212-9e81-4a86-b142-a834d65fe608",
   "metadata": {},
   "outputs": [],
   "source": []
  }
 ],
 "metadata": {
  "kernelspec": {
   "display_name": "Python 3 (ipykernel)",
   "language": "python",
   "name": "python3"
  },
  "language_info": {
   "codemirror_mode": {
    "name": "ipython",
    "version": 3
   },
   "file_extension": ".py",
   "mimetype": "text/x-python",
   "name": "python",
   "nbconvert_exporter": "python",
   "pygments_lexer": "ipython3",
   "version": "3.12.1"
  }
 },
 "nbformat": 4,
 "nbformat_minor": 5
}
