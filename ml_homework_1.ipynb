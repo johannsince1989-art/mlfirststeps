{
 "cells": [
  {
   "cell_type": "markdown",
   "id": "4ce75918",
   "metadata": {},
   "source": [
    "# Homework 1\n",
    "Submit your results here: https://courses.datatalks.club/ml-zoomcamp-2025/homework/hw01"
   ]
  },
  {
   "cell_type": "code",
   "execution_count": 4,
   "id": "4eb29c01",
   "metadata": {},
   "outputs": [],
   "source": [
    "import pandas as pd"
   ]
  },
  {
   "cell_type": "markdown",
   "id": "0468b532",
   "metadata": {},
   "source": [
    "## Q1\n",
    "Q1. Pandas version\n",
    "What's the version of Pandas that you installed?\n",
    "\n",
    "You can get the version information using the __version__ field:"
   ]
  },
  {
   "cell_type": "code",
   "execution_count": 5,
   "id": "0fb1993d",
   "metadata": {},
   "outputs": [
    {
     "data": {
      "text/plain": [
       "'2.3.1'"
      ]
     },
     "execution_count": 5,
     "metadata": {},
     "output_type": "execute_result"
    }
   ],
   "source": [
    "pd.__version__\n"
   ]
  },
  {
   "cell_type": "markdown",
   "id": "b3c6b9d4",
   "metadata": {},
   "source": [
    "### Q2. Records count\n",
    "\n",
    "How many records are in the dataset?\n",
    "\n",
    "- 4704\n",
    "- 8704\n",
    "- 9704 <------ Right answer\n",
    "- 17704"
   ]
  },
  {
   "cell_type": "code",
   "execution_count": 8,
   "id": "dc13d19a",
   "metadata": {},
   "outputs": [
    {
     "data": {
      "text/html": [
       "<div>\n",
       "<style scoped>\n",
       "    .dataframe tbody tr th:only-of-type {\n",
       "        vertical-align: middle;\n",
       "    }\n",
       "\n",
       "    .dataframe tbody tr th {\n",
       "        vertical-align: top;\n",
       "    }\n",
       "\n",
       "    .dataframe thead th {\n",
       "        text-align: right;\n",
       "    }\n",
       "</style>\n",
       "<table border=\"1\" class=\"dataframe\">\n",
       "  <thead>\n",
       "    <tr style=\"text-align: right;\">\n",
       "      <th></th>\n",
       "      <th>engine_displacement</th>\n",
       "      <th>num_cylinders</th>\n",
       "      <th>horsepower</th>\n",
       "      <th>vehicle_weight</th>\n",
       "      <th>acceleration</th>\n",
       "      <th>model_year</th>\n",
       "      <th>origin</th>\n",
       "      <th>fuel_type</th>\n",
       "      <th>drivetrain</th>\n",
       "      <th>num_doors</th>\n",
       "      <th>fuel_efficiency_mpg</th>\n",
       "    </tr>\n",
       "  </thead>\n",
       "  <tbody>\n",
       "    <tr>\n",
       "      <th>0</th>\n",
       "      <td>170</td>\n",
       "      <td>3.0</td>\n",
       "      <td>159.0</td>\n",
       "      <td>3413.433759</td>\n",
       "      <td>17.7</td>\n",
       "      <td>2003</td>\n",
       "      <td>Europe</td>\n",
       "      <td>Gasoline</td>\n",
       "      <td>All-wheel drive</td>\n",
       "      <td>0.0</td>\n",
       "      <td>13.231729</td>\n",
       "    </tr>\n",
       "    <tr>\n",
       "      <th>1</th>\n",
       "      <td>130</td>\n",
       "      <td>5.0</td>\n",
       "      <td>97.0</td>\n",
       "      <td>3149.664934</td>\n",
       "      <td>17.8</td>\n",
       "      <td>2007</td>\n",
       "      <td>USA</td>\n",
       "      <td>Gasoline</td>\n",
       "      <td>Front-wheel drive</td>\n",
       "      <td>0.0</td>\n",
       "      <td>13.688217</td>\n",
       "    </tr>\n",
       "    <tr>\n",
       "      <th>2</th>\n",
       "      <td>170</td>\n",
       "      <td>NaN</td>\n",
       "      <td>78.0</td>\n",
       "      <td>3079.038997</td>\n",
       "      <td>15.1</td>\n",
       "      <td>2018</td>\n",
       "      <td>Europe</td>\n",
       "      <td>Gasoline</td>\n",
       "      <td>Front-wheel drive</td>\n",
       "      <td>0.0</td>\n",
       "      <td>14.246341</td>\n",
       "    </tr>\n",
       "    <tr>\n",
       "      <th>3</th>\n",
       "      <td>220</td>\n",
       "      <td>4.0</td>\n",
       "      <td>NaN</td>\n",
       "      <td>2542.392402</td>\n",
       "      <td>20.2</td>\n",
       "      <td>2009</td>\n",
       "      <td>USA</td>\n",
       "      <td>Diesel</td>\n",
       "      <td>All-wheel drive</td>\n",
       "      <td>2.0</td>\n",
       "      <td>16.912736</td>\n",
       "    </tr>\n",
       "    <tr>\n",
       "      <th>4</th>\n",
       "      <td>210</td>\n",
       "      <td>1.0</td>\n",
       "      <td>140.0</td>\n",
       "      <td>3460.870990</td>\n",
       "      <td>14.4</td>\n",
       "      <td>2009</td>\n",
       "      <td>Europe</td>\n",
       "      <td>Gasoline</td>\n",
       "      <td>All-wheel drive</td>\n",
       "      <td>2.0</td>\n",
       "      <td>12.488369</td>\n",
       "    </tr>\n",
       "  </tbody>\n",
       "</table>\n",
       "</div>"
      ],
      "text/plain": [
       "   engine_displacement  num_cylinders  horsepower  vehicle_weight  \\\n",
       "0                  170            3.0       159.0     3413.433759   \n",
       "1                  130            5.0        97.0     3149.664934   \n",
       "2                  170            NaN        78.0     3079.038997   \n",
       "3                  220            4.0         NaN     2542.392402   \n",
       "4                  210            1.0       140.0     3460.870990   \n",
       "\n",
       "   acceleration  model_year  origin fuel_type         drivetrain  num_doors  \\\n",
       "0          17.7        2003  Europe  Gasoline    All-wheel drive        0.0   \n",
       "1          17.8        2007     USA  Gasoline  Front-wheel drive        0.0   \n",
       "2          15.1        2018  Europe  Gasoline  Front-wheel drive        0.0   \n",
       "3          20.2        2009     USA    Diesel    All-wheel drive        2.0   \n",
       "4          14.4        2009  Europe  Gasoline    All-wheel drive        2.0   \n",
       "\n",
       "   fuel_efficiency_mpg  \n",
       "0            13.231729  \n",
       "1            13.688217  \n",
       "2            14.246341  \n",
       "3            16.912736  \n",
       "4            12.488369  "
      ]
     },
     "execution_count": 8,
     "metadata": {},
     "output_type": "execute_result"
    }
   ],
   "source": [
    "df = pd.read_csv('car_fuel_efficiency.csv')\n",
    "df.head()"
   ]
  },
  {
   "cell_type": "code",
   "execution_count": 17,
   "id": "7007d306",
   "metadata": {},
   "outputs": [
    {
     "data": {
      "text/plain": [
       "9704"
      ]
     },
     "execution_count": 17,
     "metadata": {},
     "output_type": "execute_result"
    }
   ],
   "source": [
    "len(df)"
   ]
  },
  {
   "cell_type": "code",
   "execution_count": 18,
   "id": "0bcaa65c",
   "metadata": {},
   "outputs": [
    {
     "data": {
      "text/plain": [
       "(9704, 11)"
      ]
     },
     "execution_count": 18,
     "metadata": {},
     "output_type": "execute_result"
    }
   ],
   "source": [
    "df.shape[0]      # rows\n",
    "df.shape         # (rows, cols)\n",
    "\n",
    "# with a condition\n",
    "#(df['status'] == 'active').sum()\n",
    "#df.query(\"status == 'active'\").shape[0]"
   ]
  },
  {
   "cell_type": "markdown",
   "id": "df7b973f",
   "metadata": {},
   "source": [
    "### Q3. Fuel types\n",
    "\n",
    "How many fuel types are presented in the dataset?\n",
    "\n",
    "- 1\n",
    "- 2 <----- Right Answer\n",
    "- 3\n",
    "- 4"
   ]
  },
  {
   "cell_type": "code",
   "execution_count": 16,
   "id": "bf965e5a",
   "metadata": {},
   "outputs": [
    {
     "data": {
      "text/plain": [
       "2"
      ]
     },
     "execution_count": 16,
     "metadata": {},
     "output_type": "execute_result"
    }
   ],
   "source": [
    "len(df.groupby('fuel_type'))"
   ]
  },
  {
   "cell_type": "code",
   "execution_count": 8,
   "id": "f5cb63d9",
   "metadata": {},
   "outputs": [
    {
     "data": {
      "text/plain": [
       "np.int64(2)"
      ]
     },
     "execution_count": 8,
     "metadata": {},
     "output_type": "execute_result"
    }
   ],
   "source": [
    "df.nunique().fuel_type"
   ]
  },
  {
   "cell_type": "markdown",
   "id": "3c803869",
   "metadata": {},
   "source": [
    "### Q4. Missing values\n",
    "\n",
    "How many columns in the dataset have missing values?\n",
    "\n",
    "- 0\n",
    "- 1\n",
    "- 2\n",
    "- 3\n",
    "- 4 <------- Right answer"
   ]
  },
  {
   "cell_type": "code",
   "execution_count": 26,
   "id": "6d102ffd",
   "metadata": {},
   "outputs": [
    {
     "data": {
      "text/plain": [
       "engine_displacement      0\n",
       "num_cylinders          482\n",
       "horsepower             708\n",
       "vehicle_weight           0\n",
       "acceleration           930\n",
       "model_year               0\n",
       "origin                   0\n",
       "fuel_type                0\n",
       "drivetrain               0\n",
       "num_doors              502\n",
       "fuel_efficiency_mpg      0\n",
       "dtype: int64"
      ]
     },
     "execution_count": 26,
     "metadata": {},
     "output_type": "execute_result"
    }
   ],
   "source": [
    "df.isnull().sum()"
   ]
  },
  {
   "cell_type": "code",
   "execution_count": null,
   "id": "c5a20034",
   "metadata": {},
   "outputs": [
    {
     "ename": "IndexError",
     "evalue": "too many indices for array: array is 1-dimensional, but 2 were indexed",
     "output_type": "error",
     "traceback": [
      "\u001b[31m---------------------------------------------------------------------------\u001b[39m",
      "\u001b[31mIndexError\u001b[39m                                Traceback (most recent call last)",
      "\u001b[36mCell\u001b[39m\u001b[36m \u001b[39m\u001b[32mIn[57]\u001b[39m\u001b[32m, line 3\u001b[39m\n\u001b[32m      1\u001b[39m cols_with_nulls = df.columns[df.isnull().any()]\n\u001b[32m      2\u001b[39m \u001b[38;5;28mlen\u001b[39m(cols_with_nulls)\n\u001b[32m----> \u001b[39m\u001b[32m3\u001b[39m cols_with_nulls = \u001b[43mdf\u001b[49m\u001b[43m.\u001b[49m\u001b[43mcolumns\u001b[49m\u001b[43m[\u001b[49m\u001b[43mdf\u001b[49m\u001b[43m.\u001b[49m\u001b[43misnull\u001b[49m\u001b[43m(\u001b[49m\u001b[43m)\u001b[49m\u001b[43m]\u001b[49m\n",
      "\u001b[36mFile \u001b[39m\u001b[32m~/.local/lib/python3.12/site-packages/pandas/core/indexes/base.py:5428\u001b[39m, in \u001b[36mIndex.__getitem__\u001b[39m\u001b[34m(self, key)\u001b[39m\n\u001b[32m   5419\u001b[39m         \u001b[38;5;28;01mif\u001b[39;00m \u001b[38;5;28mlen\u001b[39m(key) == \u001b[32m0\u001b[39m \u001b[38;5;129;01mand\u001b[39;00m \u001b[38;5;28mlen\u001b[39m(key) != \u001b[38;5;28mlen\u001b[39m(\u001b[38;5;28mself\u001b[39m):\n\u001b[32m   5420\u001b[39m             warnings.warn(\n\u001b[32m   5421\u001b[39m                 \u001b[33m\"\u001b[39m\u001b[33mUsing a boolean indexer with length 0 on an Index with \u001b[39m\u001b[33m\"\u001b[39m\n\u001b[32m   5422\u001b[39m                 \u001b[33m\"\u001b[39m\u001b[33mlength greater than 0 is deprecated and will raise in a \u001b[39m\u001b[33m\"\u001b[39m\n\u001b[32m   (...)\u001b[39m\u001b[32m   5425\u001b[39m                 stacklevel=find_stack_level(),\n\u001b[32m   5426\u001b[39m             )\n\u001b[32m-> \u001b[39m\u001b[32m5428\u001b[39m result = \u001b[43mgetitem\u001b[49m\u001b[43m(\u001b[49m\u001b[43mkey\u001b[49m\u001b[43m)\u001b[49m\n\u001b[32m   5429\u001b[39m \u001b[38;5;66;03m# Because we ruled out integer above, we always get an arraylike here\u001b[39;00m\n\u001b[32m   5430\u001b[39m \u001b[38;5;28;01mif\u001b[39;00m result.ndim > \u001b[32m1\u001b[39m:\n",
      "\u001b[31mIndexError\u001b[39m: too many indices for array: array is 1-dimensional, but 2 were indexed"
     ]
    }
   ],
   "source": [
    "cols_with_nulls = df.columns[df.isnull().any()]\n",
    "len(cols_with_nulls)"
   ]
  },
  {
   "cell_type": "markdown",
   "id": "5ab83e83",
   "metadata": {},
   "source": [
    "    A     B\n",
    " 0  1   NaN\n",
    " 1 NaN    3\n",
    " 2  4     5\n",
    "\n",
    "df.isna()\n",
    "       A      B\n",
    " 0  False   True\n",
    " 1   True  False\n",
    " 2  False  False\n",
    "\n",
    "df.isna().sum()\n",
    " A    1\n",
    " B    1\n",
    " dtype: int64\n",
    "\n",
    "df.isna().sum().sum()\n",
    " 2\n",
    "cols_with_nulls = df.columns[df.isnull().any()]\n",
    "df.isnull() → DataFrame of booleans (same shape as df), True where value is null.\n",
    "\n",
    ".any() on a DataFrame defaults to axis=0 (down the rows), so you get a boolean Series indexed by column names: True for columns that have at least one null.\n",
    "\n",
    "Equivalent and explicit: df.isnull().any(axis=0)\n",
    "\n",
    "df.columns[...] accepts a boolean mask aligned to the columns. Passing that Series filters the Index to only the names where the mask is True.\n",
    "\n",
    "So the mask’s index (column names) lines up with df.columns, and you get just those column names.\n",
    "\n",
    "Tiny demo:\n",
    "\n",
    "    A    B    C\n",
    " 0  1  NaN  7.0\n",
    " 1  2  3.0  NaN\n",
    "\n",
    "mask = df.isnull().any()     - A False, B True, C True\n",
    "cols_with_nulls = df.columns[mask]  - Index(['B', 'C'], dtype='object')"
   ]
  },
  {
   "cell_type": "markdown",
   "id": "b2a7dd21",
   "metadata": {},
   "source": [
    "### Q5. Max fuel efficiency\n",
    "\n",
    "What's the maximum fuel efficiency of cars from Asia?\n",
    "\n",
    "- 13.75\n",
    "- 23.75 <----- Right Answer\n",
    "- 33.75\n",
    "- 43.75"
   ]
  },
  {
   "cell_type": "code",
   "execution_count": 48,
   "id": "2545bdae",
   "metadata": {},
   "outputs": [
    {
     "data": {
      "text/plain": [
       "np.float64(23.759122836520497)"
      ]
     },
     "execution_count": 48,
     "metadata": {},
     "output_type": "execute_result"
    }
   ],
   "source": [
    "df[\n",
    "    df['origin']  == 'Asia'\n",
    "    ].fuel_efficiency_mpg.max()"
   ]
  },
  {
   "cell_type": "markdown",
   "id": "f5b788a2",
   "metadata": {},
   "source": [
    "### Q6. Median value of horsepower\n",
    "\n",
    "\n",
    "\n",
    "1. Find the median value of `horsepower` column in the dataset.\n",
    "2. Next, calculate the most frequent value of the same `horsepower` column.\n",
    "3. Use `fillna` method to fill the missing values in `horsepower` column with the most frequent value from the previous step.\n",
    "4. Now, calculate the median value of `horsepower` once again.\n",
    "\n",
    "Has it changed?\n",
    "\n",
    "\n",
    "- Yes, it increased\n",
    "- Yes, it decreased\n",
    "- No <--- Right Answer"
   ]
  },
  {
   "cell_type": "code",
   "execution_count": 41,
   "id": "0d2f83a2",
   "metadata": {},
   "outputs": [
    {
     "name": "stdout",
     "output_type": "stream",
     "text": [
      "149.0\n",
      "149.0\n"
     ]
    }
   ],
   "source": [
    "print(df.horsepower.median())\n",
    "top_value = df['horsepower'].value_counts().idxmax()   # most frequent (ignores NaN)\n",
    "#top_count = df['col'].value_counts().max()      # its frequency\n",
    "df.horsepower.fillna(top_value)\n",
    "print(df.horsepower.median())\n"
   ]
  },
  {
   "cell_type": "code",
   "execution_count": null,
   "id": "c7c6fe9b",
   "metadata": {},
   "outputs": [],
   "source": []
  },
  {
   "cell_type": "markdown",
   "id": "699cfba9",
   "metadata": {},
   "source": [
    "### Q7. Sum of weights\n",
    "\n",
    "1. Select all the cars from Asia\n",
    "2. Select only columns `vehicle_weight` and `model_year`\n",
    "3. Select the first 7 values\n",
    "4. Get the underlying NumPy array. Let's call it `X`.\n",
    "5. Compute matrix-matrix multiplication between the transpose of `X` and `X`. To get the transpose, use `X.T`. Let's call the result `XTX`.\n",
    "6. Invert `XTX`.\n",
    "7. Create an array `y` with values `[1100, 1300, 800, 900, 1000, 1100, 1200]`.\n",
    "8. Multiply the inverse of `XTX` with the transpose of `X`, and then multiply the result by `y`. Call the result `w`.\n",
    "9. What's the sum of all the elements of the result?\n",
    "\n",
    "> **Note**: You just implemented linear regression. We'll talk about it in the next lesson.\n",
    "\n",
    "- 0.051\n",
    "- 0.51 <----- right answer!!!\n",
    "- 5.1\n",
    "- 51\n"
   ]
  },
  {
   "cell_type": "code",
   "execution_count": 56,
   "id": "88217512",
   "metadata": {},
   "outputs": [
    {
     "name": "stdout",
     "output_type": "stream",
     "text": [
      "    vehicle_weight  model_year\n",
      "8      2714.219310        2016\n",
      "12     2783.868974        2010\n",
      "14     3582.687368        2007\n",
      "20     2231.808142        2011\n",
      "21     2659.431451        2016\n",
      "34     2844.227534        2014\n",
      "38     3761.994038        2019\n",
      "[0.01386421 0.5049067 ]\n"
     ]
    },
    {
     "data": {
      "text/plain": [
       "np.float64(0.5187709081074016)"
      ]
     },
     "execution_count": 56,
     "metadata": {},
     "output_type": "execute_result"
    }
   ],
   "source": [
    "import numpy as np\n",
    "#asia_df = df[\n",
    "#    (df.origin == 'Asia')\n",
    "#]\n",
    "asia_df = df[\n",
    "    df['origin']  == 'Asia'\n",
    "]\n",
    "asia_df.head()\n",
    "weight_year = asia_df[['vehicle_weight','model_year']].head(7)\n",
    "#weight_year.vehicle_weight = weight_year.vehicle_weight.round(2)\n",
    "\n",
    "print(weight_year)\n",
    "X = weight_year.to_numpy()\n",
    "#print(X)\n",
    "XTX = X.T.dot(X) # XTX = X.T @ X          # modern operator syntax\n",
    "XTX_inv = np.linalg.inv(XTX)\n",
    "y = np.array([1100, 1300, 800, 900, 1000, 1100, 1200])\n",
    "# Multiply the inverse of `XTX` with the transpose of `X`, and then multiply the result by `y`. Call the result `w`\n",
    "#w = XTX_inv.dot(X.T).dot(y)\n",
    "w = XTX_inv @ X.T @ y\n",
    "print(w)\n",
    "sum(w)"
   ]
  },
  {
   "cell_type": "markdown",
   "id": "1ec064d7",
   "metadata": {},
   "source": [
    "## Submit the results\n",
    "\n",
    "* Submit your results here: https://courses.datatalks.club/ml-zoomcamp-2025/homework/hw01\n",
    "* If your answer doesn't match options exactly, select the closest one"
   ]
  }
 ],
 "metadata": {
  "kernelspec": {
   "display_name": "Python 3",
   "language": "python",
   "name": "python3"
  },
  "language_info": {
   "codemirror_mode": {
    "name": "ipython",
    "version": 3
   },
   "file_extension": ".py",
   "mimetype": "text/x-python",
   "name": "python",
   "nbconvert_exporter": "python",
   "pygments_lexer": "ipython3",
   "version": "3.12.1"
  }
 },
 "nbformat": 4,
 "nbformat_minor": 5
}
