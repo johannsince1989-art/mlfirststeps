{
 "cells": [
  {
   "cell_type": "code",
   "execution_count": 1,
   "id": "d48226f8-310c-42f9-920d-0a1df073c9c9",
   "metadata": {},
   "outputs": [],
   "source": [
    "import openai"
   ]
  },
  {
   "cell_type": "code",
   "execution_count": 3,
   "id": "dd7b55ef-beee-47d7-b5ea-1e74019bada1",
   "metadata": {},
   "outputs": [],
   "source": [
    "from openai import OpenAI"
   ]
  },
  {
   "cell_type": "code",
   "execution_count": 4,
   "id": "31b92d1c-a6eb-490d-9460-30381030b896",
   "metadata": {},
   "outputs": [],
   "source": [
    "client = OpenAI()"
   ]
  },
  {
   "cell_type": "code",
   "execution_count": 9,
   "id": "bc4e4914-f617-4d62-9d50-9a605e84046a",
   "metadata": {},
   "outputs": [],
   "source": [
    "response = client.chat.completions.create(\n",
    "    model='gpt-4o',\n",
    "    messages= [{'role': 'user', 'content': 'is it too late to join the course'}]\n",
    ")"
   ]
  },
  {
   "cell_type": "code",
   "execution_count": 10,
   "id": "6ae494df-c759-4aec-bbe1-453e8b07ee6d",
   "metadata": {},
   "outputs": [
    {
     "data": {
      "text/plain": [
       "\"I'm not sure which course you're referring to, but whether it's too late to join largely depends on the specific course's enrollment deadlines and structure. Here are a few steps you can take:\\n\\n1. **Check Enrollment Deadlines**: Look for any specific enrollment dates or deadlines on the course website or promotional material.\\n\\n2. **Contact the Institution**: Reach out to the institution or course provider directly to inquire about late enrollment possibilities.\\n\\n3. **Consider Self-Paced Options**: Some courses, especially online ones, are self-paced and may allow you to start at any time.\\n\\n4. **Look for Future Sessions**: If it’s too late for the current session, find out when the course will be offered again.\\n\\nIf you provide more details about the course, I might be able to give more specific advice.\""
      ]
     },
     "execution_count": 10,
     "metadata": {},
     "output_type": "execute_result"
    }
   ],
   "source": [
    "response.choices[0].message.content"
   ]
  },
  {
   "cell_type": "code",
   "execution_count": null,
   "id": "2ade21d9-4c9b-422d-befc-f94562c72375",
   "metadata": {},
   "outputs": [],
   "source": []
  },
  {
   "cell_type": "code",
   "execution_count": null,
   "id": "d3a81812-2542-4d53-8c9d-ee79094c32e6",
   "metadata": {},
   "outputs": [],
   "source": []
  }
 ],
 "metadata": {
  "kernelspec": {
   "display_name": "Python 3 (ipykernel)",
   "language": "python",
   "name": "python3"
  },
  "language_info": {
   "codemirror_mode": {
    "name": "ipython",
    "version": 3
   },
   "file_extension": ".py",
   "mimetype": "text/x-python",
   "name": "python",
   "nbconvert_exporter": "python",
   "pygments_lexer": "ipython3",
   "version": "3.12.1"
  }
 },
 "nbformat": 4,
 "nbformat_minor": 5
}
