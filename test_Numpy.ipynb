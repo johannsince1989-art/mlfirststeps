{
 "cells": [
  {
   "cell_type": "markdown",
   "id": "371ec683-59e2-4bbb-ac6c-2ff601d98657",
   "metadata": {},
   "source": [
    "# This is my numpy test"
   ]
  },
  {
   "cell_type": "code",
   "execution_count": 1,
   "id": "8ec59798-15e0-4eed-ac68-c4482177b8dc",
   "metadata": {},
   "outputs": [],
   "source": [
    "import numpy as np"
   ]
  },
  {
   "cell_type": "markdown",
   "id": "16aad275-6d1a-4c89-b35d-68e0406dbc7e",
   "metadata": {},
   "source": [
    "# Creating arrays"
   ]
  },
  {
   "cell_type": "code",
   "execution_count": 2,
   "id": "f053b59a-ba10-435f-b0eb-c451d03b7a20",
   "metadata": {},
   "outputs": [
    {
     "data": {
      "text/plain": [
       "array([0., 0., 0., 0., 0.])"
      ]
     },
     "execution_count": 2,
     "metadata": {},
     "output_type": "execute_result"
    }
   ],
   "source": [
    "np.zeros(5)"
   ]
  },
  {
   "cell_type": "code",
   "execution_count": 6,
   "id": "847d5e58-5009-422c-a5f3-98cea01fa17f",
   "metadata": {},
   "outputs": [
    {
     "data": {
      "text/plain": [
       "array([1., 1., 1., 1., 1., 1., 1., 1., 1., 1.])"
      ]
     },
     "execution_count": 6,
     "metadata": {},
     "output_type": "execute_result"
    }
   ],
   "source": [
    "np.ones(10)"
   ]
  },
  {
   "cell_type": "code",
   "execution_count": 7,
   "id": "458db644-52e7-4fa8-857b-e6a068db0103",
   "metadata": {},
   "outputs": [
    {
     "data": {
      "text/plain": [
       "array([3.5, 3.5, 3.5, 3.5, 3.5, 3.5, 3.5, 3.5, 3.5, 3.5])"
      ]
     },
     "execution_count": 7,
     "metadata": {},
     "output_type": "execute_result"
    }
   ],
   "source": [
    "np.full(10, 3.5)"
   ]
  },
  {
   "cell_type": "code",
   "execution_count": 10,
   "id": "d8293c00-fe1e-47fb-a4f1-6b08461ebee1",
   "metadata": {},
   "outputs": [
    {
     "data": {
      "text/plain": [
       "array([0, 1, 2, 3, 4, 5, 6, 7, 8, 9])"
      ]
     },
     "execution_count": 10,
     "metadata": {},
     "output_type": "execute_result"
    }
   ],
   "source": [
    "np.arange(10)"
   ]
  },
  {
   "cell_type": "code",
   "execution_count": 13,
   "id": "0fc6ef33-9c04-48cf-be25-d7175ecc7819",
   "metadata": {},
   "outputs": [
    {
     "data": {
      "text/plain": [
       "array([ 0.,  1.,  2.,  3.,  4.,  5.,  6.,  7.,  8.,  9., 10.])"
      ]
     },
     "execution_count": 13,
     "metadata": {},
     "output_type": "execute_result"
    }
   ],
   "source": [
    "np.linspace(0,10,11) # raneStart,rangeEnd,steps"
   ]
  },
  {
   "cell_type": "markdown",
   "id": "c7c45f9b-7573-49b9-92a6-88d3cae0b065",
   "metadata": {},
   "source": [
    "# Multi-dimentional arrays"
   ]
  },
  {
   "cell_type": "code",
   "execution_count": 14,
   "id": "2fa9ef3c-8cf3-4cfa-ab68-5a2d8ab1fbe4",
   "metadata": {},
   "outputs": [
    {
     "data": {
      "text/plain": [
       "array([[0., 0.],\n",
       "       [0., 0.],\n",
       "       [0., 0.],\n",
       "       [0., 0.],\n",
       "       [0., 0.]])"
      ]
     },
     "execution_count": 14,
     "metadata": {},
     "output_type": "execute_result"
    }
   ],
   "source": [
    "np.zeros((5,2))"
   ]
  },
  {
   "cell_type": "code",
   "execution_count": 15,
   "id": "269a92b4-cd15-4d6b-aedb-09dde63c4f28",
   "metadata": {},
   "outputs": [],
   "source": [
    "n= np.array([\n",
    "    [1,2,3],\n",
    "    [4,5,6],\n",
    "    [7,8,9]\n",
    "])"
   ]
  },
  {
   "cell_type": "code",
   "execution_count": 16,
   "id": "42cbc261-33e5-420e-8365-a1b17a1f81e5",
   "metadata": {},
   "outputs": [
    {
     "data": {
      "text/plain": [
       "array([[1, 2, 3],\n",
       "       [4, 5, 6],\n",
       "       [7, 8, 9]])"
      ]
     },
     "execution_count": 16,
     "metadata": {},
     "output_type": "execute_result"
    }
   ],
   "source": [
    "n"
   ]
  },
  {
   "cell_type": "code",
   "execution_count": 18,
   "id": "57a8ee35-a6f6-4a46-9a07-fce4f0f6e3ae",
   "metadata": {},
   "outputs": [
    {
     "data": {
      "text/plain": [
       "np.int64(3)"
      ]
     },
     "execution_count": 18,
     "metadata": {},
     "output_type": "execute_result"
    }
   ],
   "source": [
    "n[0,2]"
   ]
  },
  {
   "cell_type": "code",
   "execution_count": 19,
   "id": "3e398e06-5e6b-4f88-8913-241f75cc6294",
   "metadata": {},
   "outputs": [],
   "source": [
    "n[0,2] = 10"
   ]
  },
  {
   "cell_type": "code",
   "execution_count": 20,
   "id": "a2bf600e-e87f-465d-87c6-874d5136d9fc",
   "metadata": {},
   "outputs": [
    {
     "data": {
      "text/plain": [
       "np.int64(10)"
      ]
     },
     "execution_count": 20,
     "metadata": {},
     "output_type": "execute_result"
    }
   ],
   "source": [
    "n[0,2]"
   ]
  },
  {
   "cell_type": "code",
   "execution_count": 26,
   "id": "6e1cfe81-76bf-4943-ba50-5316ea91098e",
   "metadata": {},
   "outputs": [],
   "source": [
    "n[2] = np.ones(3)"
   ]
  },
  {
   "cell_type": "code",
   "execution_count": 27,
   "id": "ab18a122-2a73-4743-9189-519e79b20ce5",
   "metadata": {},
   "outputs": [
    {
     "data": {
      "text/plain": [
       "array([1, 1, 1])"
      ]
     },
     "execution_count": 27,
     "metadata": {},
     "output_type": "execute_result"
    }
   ],
   "source": [
    "n[2]"
   ]
  },
  {
   "cell_type": "code",
   "execution_count": 23,
   "id": "bfc52674-6a98-4324-b946-fa18873e2431",
   "metadata": {},
   "outputs": [
    {
     "data": {
      "text/plain": [
       "array([[ 1,  2, 10],\n",
       "       [ 4,  5,  6],\n",
       "       [ 1,  1,  1]])"
      ]
     },
     "execution_count": 23,
     "metadata": {},
     "output_type": "execute_result"
    }
   ],
   "source": [
    "n"
   ]
  },
  {
   "cell_type": "code",
   "execution_count": 28,
   "id": "af953ecf-77f4-4724-9020-a90e07eb9b57",
   "metadata": {},
   "outputs": [],
   "source": [
    "n[:,2] = [0,1,2]"
   ]
  },
  {
   "cell_type": "code",
   "execution_count": 29,
   "id": "d8776bd1-30db-464d-8fd9-1f14002e0eeb",
   "metadata": {},
   "outputs": [
    {
     "data": {
      "text/plain": [
       "array([[1, 2, 0],\n",
       "       [4, 5, 1],\n",
       "       [1, 1, 2]])"
      ]
     },
     "execution_count": 29,
     "metadata": {},
     "output_type": "execute_result"
    }
   ],
   "source": [
    "n"
   ]
  },
  {
   "cell_type": "markdown",
   "id": "a110374b-fb89-4e63-9d22-11bc506c1852",
   "metadata": {},
   "source": [
    "# Radnomly generated arrays"
   ]
  },
  {
   "cell_type": "code",
   "execution_count": 33,
   "id": "eac7cbe0-6f11-4967-a28a-999e841cc9de",
   "metadata": {},
   "outputs": [
    {
     "data": {
      "text/plain": [
       "array([[0.03476087, 0.0205929 ],\n",
       "       [0.78767104, 0.80215171],\n",
       "       [0.42183007, 0.97834826],\n",
       "       [0.05521676, 0.57701164],\n",
       "       [0.05026987, 0.17870066]])"
      ]
     },
     "execution_count": 33,
     "metadata": {},
     "output_type": "execute_result"
    }
   ],
   "source": [
    "np.random.rand(5,2)"
   ]
  },
  {
   "cell_type": "code",
   "execution_count": 34,
   "id": "990760fb-10f7-4a34-ae9f-17f180d6b29e",
   "metadata": {},
   "outputs": [
    {
     "data": {
      "text/plain": [
       "array([[0.4359949 , 0.02592623],\n",
       "       [0.54966248, 0.43532239],\n",
       "       [0.4203678 , 0.33033482],\n",
       "       [0.20464863, 0.61927097],\n",
       "       [0.29965467, 0.26682728]])"
      ]
     },
     "execution_count": 34,
     "metadata": {},
     "output_type": "execute_result"
    }
   ],
   "source": [
    "np.random.seed(2) # we fix the seed such that the \"random\" numbers are alwyays same\n",
    "np.random.rand(5,2)"
   ]
  },
  {
   "cell_type": "code",
   "execution_count": 35,
   "id": "68bfb735-881d-4c97-b1b1-3ef9b7f7f415",
   "metadata": {},
   "outputs": [
    {
     "data": {
      "text/plain": [
       "array([[0.4359949 , 0.02592623],\n",
       "       [0.54966248, 0.43532239],\n",
       "       [0.4203678 , 0.33033482],\n",
       "       [0.20464863, 0.61927097],\n",
       "       [0.29965467, 0.26682728]])"
      ]
     },
     "execution_count": 35,
     "metadata": {},
     "output_type": "execute_result"
    }
   ],
   "source": [
    "np.random.seed(2) # we fix the seed such that the \"random\" numbers are alwyays same\n",
    "np.random.rand(5,2)"
   ]
  },
  {
   "cell_type": "code",
   "execution_count": 36,
   "id": "b545d7eb-90b2-433b-87c8-ef27f95ed4a2",
   "metadata": {},
   "outputs": [
    {
     "data": {
      "text/plain": [
       "array([[ 0.55145404,  2.29220801],\n",
       "       [ 0.04153939, -1.11792545],\n",
       "       [ 0.53905832, -0.5961597 ],\n",
       "       [-0.0191305 ,  1.17500122],\n",
       "       [-0.74787095,  0.00902525]])"
      ]
     },
     "execution_count": 36,
     "metadata": {},
     "output_type": "execute_result"
    }
   ],
   "source": [
    "np.random.randn(5,2)"
   ]
  },
  {
   "cell_type": "markdown",
   "id": "20902aa6-4ddf-494f-b481-81a2b1516d7e",
   "metadata": {},
   "source": [
    "# Element-wise-operations"
   ]
  },
  {
   "cell_type": "code",
   "execution_count": null,
   "id": "011fba66-4526-4062-aecf-f484f900b0f4",
   "metadata": {},
   "outputs": [],
   "source": []
  }
 ],
 "metadata": {
  "kernelspec": {
   "display_name": "Python 3 (ipykernel)",
   "language": "python",
   "name": "python3"
  },
  "language_info": {
   "codemirror_mode": {
    "name": "ipython",
    "version": 3
   },
   "file_extension": ".py",
   "mimetype": "text/x-python",
   "name": "python",
   "nbconvert_exporter": "python",
   "pygments_lexer": "ipython3",
   "version": "3.12.1"
  }
 },
 "nbformat": 4,
 "nbformat_minor": 5
}
